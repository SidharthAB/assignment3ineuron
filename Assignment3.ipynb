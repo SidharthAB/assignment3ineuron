{
 "cells": [
  {
   "cell_type": "markdown",
   "id": "0503cc8d",
   "metadata": {},
   "source": [
    "Question 1"
   ]
  },
  {
   "cell_type": "markdown",
   "id": "7e4af57b",
   "metadata": {},
   "source": [
    "Functions are written so that code could be reused, we could invoke the code multiple times by calling the function name,\n",
    "it reduces the need for duplicate code"
   ]
  },
  {
   "cell_type": "markdown",
   "id": "809ca925",
   "metadata": {},
   "source": [
    "Question 2"
   ]
  },
  {
   "cell_type": "markdown",
   "id": "d516bb8e",
   "metadata": {},
   "source": [
    "A function runs only when it is called not when it is defined, unless it is called a function wont execute"
   ]
  },
  {
   "cell_type": "markdown",
   "id": "c9a7c175",
   "metadata": {},
   "source": [
    "Question 3"
   ]
  },
  {
   "cell_type": "markdown",
   "id": "db51426d",
   "metadata": {},
   "source": [
    "A function in python is created by - def followed by function name and :(colon)\n"
   ]
  },
  {
   "cell_type": "markdown",
   "id": "4aa8e2e4",
   "metadata": {},
   "source": [
    "Question 4"
   ]
  },
  {
   "cell_type": "markdown",
   "id": "1cbf94f6",
   "metadata": {},
   "source": [
    "A function is defining of a function what are the things to be done when calling a function and Function calling is calling the function for execution, only when a function is called it is executed"
   ]
  },
  {
   "cell_type": "markdown",
   "id": "41212e47",
   "metadata": {},
   "source": [
    "Question 5"
   ]
  },
  {
   "cell_type": "markdown",
   "id": "60d9e50d",
   "metadata": {},
   "source": [
    "There is only one global scope in python which remains exist until the end of the program.\n",
    "Local scope is the variable defined inside the function in python- these can be accessed within the function"
   ]
  },
  {
   "cell_type": "markdown",
   "id": "a09c7771",
   "metadata": {},
   "source": [
    "Question 6"
   ]
  },
  {
   "cell_type": "markdown",
   "id": "867d2ecd",
   "metadata": {},
   "source": [
    "Local variables are destroyed after returning the function value."
   ]
  },
  {
   "cell_type": "markdown",
   "id": "a0dff85f",
   "metadata": {},
   "source": [
    "Question 7"
   ]
  },
  {
   "cell_type": "markdown",
   "id": "f5c4fbf5",
   "metadata": {},
   "source": [
    "Returning a value in a function is function returns the resultant returned value to the caller. We can return a value by writing a return statement followed by value to be returned"
   ]
  },
  {
   "cell_type": "markdown",
   "id": "3857a350",
   "metadata": {},
   "source": [
    "Question 8"
   ]
  },
  {
   "cell_type": "markdown",
   "id": "cd493150",
   "metadata": {},
   "source": [
    "If there is no return value it returns \"None\" to the function."
   ]
  },
  {
   "cell_type": "markdown",
   "id": "f08866e1",
   "metadata": {},
   "source": [
    "Question 9"
   ]
  },
  {
   "cell_type": "markdown",
   "id": "36486655",
   "metadata": {},
   "source": [
    "If we want to refer to a global variable inside the function we can use global keyword to declare the variables."
   ]
  },
  {
   "cell_type": "markdown",
   "id": "f6341be6",
   "metadata": {},
   "source": [
    "Question 10"
   ]
  },
  {
   "cell_type": "markdown",
   "id": "537df79e",
   "metadata": {},
   "source": [
    "None is used to define null value, its own data type "
   ]
  },
  {
   "cell_type": "markdown",
   "id": "df51d088",
   "metadata": {},
   "source": [
    "Question 11"
   ]
  },
  {
   "cell_type": "markdown",
   "id": "7dec5b88",
   "metadata": {},
   "source": [
    "it will import the module areallyourpetsnamederic."
   ]
  },
  {
   "cell_type": "markdown",
   "id": "30ffdb43",
   "metadata": {},
   "source": [
    "Question 12"
   ]
  },
  {
   "cell_type": "markdown",
   "id": "ef2558d2",
   "metadata": {},
   "source": [
    "Calling the function after importing the module will be spam.bacon()."
   ]
  },
  {
   "cell_type": "markdown",
   "id": "512550ef",
   "metadata": {},
   "source": [
    "Question 13"
   ]
  },
  {
   "cell_type": "markdown",
   "id": "500a6ccb",
   "metadata": {},
   "source": [
    "Exception handling - (Try - except) can be used to save a program from crashing and notifing the user regarding the error"
   ]
  },
  {
   "cell_type": "markdown",
   "id": "a597b97d",
   "metadata": {},
   "source": [
    "Question 14"
   ]
  },
  {
   "cell_type": "markdown",
   "id": "150ee8e7",
   "metadata": {},
   "source": [
    "Try block is used to check a bunch of code for errors(code to be tested are written within the try block). Except block lets us handle the error occured, if there are no error code is normally executed"
   ]
  },
  {
   "cell_type": "code",
   "execution_count": null,
   "id": "d53eb6ea",
   "metadata": {},
   "outputs": [],
   "source": []
  }
 ],
 "metadata": {
  "kernelspec": {
   "display_name": "Python 3",
   "language": "python",
   "name": "python3"
  },
  "language_info": {
   "codemirror_mode": {
    "name": "ipython",
    "version": 3
   },
   "file_extension": ".py",
   "mimetype": "text/x-python",
   "name": "python",
   "nbconvert_exporter": "python",
   "pygments_lexer": "ipython3",
   "version": "3.8.8"
  }
 },
 "nbformat": 4,
 "nbformat_minor": 5
}
